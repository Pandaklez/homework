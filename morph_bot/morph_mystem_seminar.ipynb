{
 "cells": [
  {
   "cell_type": "code",
   "execution_count": 12,
   "metadata": {
    "collapsed": true
   },
   "outputs": [],
   "source": [
    "from pymystem3 import Mystem\n",
    "from pymorphy2 import MorphAnalyzer"
   ]
  },
  {
   "cell_type": "code",
   "execution_count": 2,
   "metadata": {},
   "outputs": [
    {
     "name": "stderr",
     "output_type": "stream",
     "text": [
      "Installing mystem to C:\\Users\\Admin/.local/bin\\mystem.exe from http://download.cdn.yandex.net/mystem/mystem-3.0-win7-32bit.zip\n"
     ]
    }
   ],
   "source": [
    "m = Mystem()"
   ]
  },
  {
   "cell_type": "code",
   "execution_count": 13,
   "metadata": {
    "collapsed": true
   },
   "outputs": [],
   "source": [
    "morph = MorphAnalyzer()"
   ]
  },
  {
   "cell_type": "code",
   "execution_count": 3,
   "metadata": {
    "collapsed": true
   },
   "outputs": [],
   "source": [
    "text = 'Живые выступления Делии де Франс - это камерные шоу,' +\\\n",
    "'в которых классические инструменты - фортепиано и арфа - соединяются с электроникой. ' +\\\n",
    "'Темой музыкального исследования Делии становятся пропорции - ' +\\\n",
    "'как много эксперимента нужно поп-музыке и как много попа нужно экспериментальной музыке.'"
   ]
  },
  {
   "cell_type": "code",
   "execution_count": 8,
   "metadata": {},
   "outputs": [
    {
     "data": {
      "text/plain": [
       "list"
      ]
     },
     "execution_count": 8,
     "metadata": {},
     "output_type": "execute_result"
    }
   ],
   "source": [
    "lemmas = m.lemmatize(text)\n",
    "lemmas[:3]\n",
    "type(lemmas)"
   ]
  },
  {
   "cell_type": "code",
   "execution_count": 10,
   "metadata": {},
   "outputs": [
    {
     "name": "stdout",
     "output_type": "stream",
     "text": [
      "[{'analysis': [{'lex': 'живой', 'gr': 'A=(вин,мн,полн,неод|им,мн,полн)'}], 'text': 'Живые'}, {'text': ' '}, {'analysis': [{'lex': 'выступление', 'gr': 'S,сред,неод=(вин,мн|род,ед|им,мн)'}], 'text': 'выступления'}, {'text': ' '}, {'analysis': [{'lex': 'делий', 'gr': 'S,имя,муж,од=(пр,ед|им,мн)'}], 'text': 'Делии'}]\n"
     ]
    }
   ],
   "source": [
    "ana = m.analyze(text)\n",
    "print(ana[:5])"
   ]
  },
  {
   "cell_type": "code",
   "execution_count": 11,
   "metadata": {},
   "outputs": [
    {
     "name": "stdout",
     "output_type": "stream",
     "text": [
      "{'analysis': [{'lex': 'живой', 'gr': 'A=(вин,мн,полн,неод|им,мн,полн)'}], 'text': 'Живые'}\n",
      "{'text': ' '}\n",
      "{'analysis': [{'lex': 'выступление', 'gr': 'S,сред,неод=(вин,мн|род,ед|им,мн)'}], 'text': 'выступления'}\n",
      "{'text': ' '}\n",
      "{'analysis': [{'lex': 'делий', 'gr': 'S,имя,муж,од=(пр,ед|им,мн)'}], 'text': 'Делии'}\n",
      "{'text': ' '}\n",
      "{'analysis': [{'lex': 'де', 'gr': 'PART='}], 'text': 'де'}\n",
      "{'text': ' '}\n",
      "{'analysis': [{'lex': 'франс', 'gr': 'S,имя,муж,од=им,ед'}], 'text': 'Франс'}\n",
      "{'text': ' - '}\n"
     ]
    }
   ],
   "source": [
    "for word in ana[:10]:\n",
    "    print(word)"
   ]
  },
  {
   "cell_type": "code",
   "execution_count": 18,
   "metadata": {},
   "outputs": [
    {
     "name": "stdout",
     "output_type": "stream",
     "text": [
      "['Живые', 'выступления', 'Делии', 'де', 'Франс', '-', 'это', 'камерные', 'шоу,в', 'которых', 'классические', 'инструменты', '-', 'фортепиано', 'и', 'арфа', '-', 'соединяются', 'с', 'электроникой.', 'Темой', 'музыкального', 'исследования', 'Делии', 'становятся', 'пропорции', '-', 'как', 'много', 'эксперимента', 'нужно', 'поп-музыке', 'и', 'как', 'много', 'попа', 'нужно', 'экспериментальной', 'музыке.']\n",
      "[Parse(word='живые', tag=OpencorporaTag('NOUN,anim,masc plur,nomn'), normal_form='живой', score=0.3333333333333333, methods_stack=((<DictionaryAnalyzer>, 'живые', 461, 6),)), Parse(word='живые', tag=OpencorporaTag('ADJF,Qual plur,nomn'), normal_form='живой', score=0.3333333333333333, methods_stack=((<DictionaryAnalyzer>, 'живые', 1162, 20),)), Parse(word='живые', tag=OpencorporaTag('ADJF,Qual inan,plur,accs'), normal_form='живой', score=0.3333333333333333, methods_stack=((<DictionaryAnalyzer>, 'живые', 1162, 24),))]\n",
      "[Parse(word='выступления', tag=OpencorporaTag('NOUN,inan,neut sing,gent'), normal_form='выступление', score=0.928571, methods_stack=((<DictionaryAnalyzer>, 'выступления', 76, 2),)), Parse(word='выступления', tag=OpencorporaTag('NOUN,inan,neut plur,nomn'), normal_form='выступление', score=0.035714, methods_stack=((<DictionaryAnalyzer>, 'выступления', 76, 13),)), Parse(word='выступления', tag=OpencorporaTag('NOUN,inan,neut plur,accs'), normal_form='выступление', score=0.035714, methods_stack=((<DictionaryAnalyzer>, 'выступления', 76, 18),))]\n",
      "[Parse(word='делии', tag=OpencorporaTag('NOUN,anim,masc,Name sing,loct'), normal_form='делий', score=0.5, methods_stack=((<DictionaryAnalyzer>, 'делии', 61, 5),)), Parse(word='делии', tag=OpencorporaTag('NOUN,anim,masc,Name plur,nomn'), normal_form='делий', score=0.5, methods_stack=((<DictionaryAnalyzer>, 'делии', 61, 6),))]\n",
      "[Parse(word='де', tag=OpencorporaTag('PRCL'), normal_form='де', score=1.0, methods_stack=((<DictionaryAnalyzer>, 'де', 22, 0),))]\n",
      "[Parse(word='франс', tag=OpencorporaTag('NOUN,anim,masc,Name sing,nomn'), normal_form='франс', score=1.0, methods_stack=((<DictionaryAnalyzer>, 'франс', 26, 0),))]\n",
      "[Parse(word='-', tag=OpencorporaTag('PNCT'), normal_form='-', score=1.0, methods_stack=((<PunctuationAnalyzer>, '-'),))]\n",
      "[Parse(word='это', tag=OpencorporaTag('PRCL'), normal_form='это', score=0.35, methods_stack=((<DictionaryAnalyzer>, 'это', 22, 0),)), Parse(word='это', tag=OpencorporaTag('NPRO,neut sing,nomn'), normal_form='это', score=0.3, methods_stack=((<DictionaryAnalyzer>, 'это', 3098, 0),)), Parse(word='это', tag=OpencorporaTag('NPRO,neut sing,accs'), normal_form='это', score=0.15, methods_stack=((<DictionaryAnalyzer>, 'это', 3098, 3),)), Parse(word='это', tag=OpencorporaTag('ADJF,Apro,Subx,Anph neut,sing,accs'), normal_form='этот', score=0.15, methods_stack=((<DictionaryAnalyzer>, 'это', 3099, 16),)), Parse(word='это', tag=OpencorporaTag('ADJF,Apro,Subx,Anph neut,sing,nomn'), normal_form='этот', score=0.05, methods_stack=((<DictionaryAnalyzer>, 'это', 3099, 13),))]\n",
      "[Parse(word='камерные', tag=OpencorporaTag('ADJF,Qual plur,nomn'), normal_form='камерный', score=0.666666, methods_stack=((<DictionaryAnalyzer>, 'камерные', 12, 20),)), Parse(word='камерные', tag=OpencorporaTag('ADJF,Qual inan,plur,accs'), normal_form='камерный', score=0.333333, methods_stack=((<DictionaryAnalyzer>, 'камерные', 12, 24),))]\n",
      "[Parse(word='шоу,в', tag=OpencorporaTag('GRND,impf,tran past'), normal_form='шоу,ть', score=0.4847441415590626, methods_stack=((<FakeDictionary>, 'шоу,в', 206, 95), (<KnownSuffixAnalyzer>, 'в'))), Parse(word='шоу,в', tag=OpencorporaTag('NOUN,anim,masc,Sgtm,Surn sing,nomn'), normal_form='шоу,в', score=0.38249641319942607, methods_stack=((<FakeDictionary>, 'шоу,в', 36, 0), (<KnownSuffixAnalyzer>, 'в'))), Parse(word='шоу,в', tag=OpencorporaTag('ADJS,Qual masc,sing'), normal_form='шоу,вый', score=0.11582974653275944, methods_stack=((<FakeDictionary>, 'шоу,в', 4, 27), (<KnownSuffixAnalyzer>, 'в'))), Parse(word='шоу,в', tag=OpencorporaTag('ADJF,Poss masc,sing,nomn'), normal_form='шоу,в', score=0.008130081300813007, methods_stack=((<FakeDictionary>, 'шоу,в', 99, 0), (<KnownSuffixAnalyzer>, 'в'))), Parse(word='шоу,в', tag=OpencorporaTag('ADJF,Poss inan,masc,sing,accs'), normal_form='шоу,в', score=0.008130081300813007, methods_stack=((<FakeDictionary>, 'шоу,в', 99, 4), (<KnownSuffixAnalyzer>, 'в'))), Parse(word='шоу,в', tag=OpencorporaTag('ADVB'), normal_form='шоу,в', score=0.0006695361071257771, methods_stack=((<FakeDictionary>, 'шоу,в', 3, 0), (<KnownSuffixAnalyzer>, 'в')))]\n",
      "[Parse(word='которых', tag=OpencorporaTag('ADJF,Apro,Subx,Anph plur,gent'), normal_form='который', score=0.544871, methods_stack=((<DictionaryAnalyzer>, 'которых', 1788, 20),)), Parse(word='которых', tag=OpencorporaTag('ADJF,Apro,Subx,Anph plur,loct'), normal_form='который', score=0.346153, methods_stack=((<DictionaryAnalyzer>, 'которых', 1788, 25),)), Parse(word='которых', tag=OpencorporaTag('ADJF,Apro,Subx,Anph anim,plur,accs'), normal_form='который', score=0.108974, methods_stack=((<DictionaryAnalyzer>, 'которых', 1788, 23),))]\n",
      "[Parse(word='классические', tag=OpencorporaTag('ADJF plur,nomn'), normal_form='классический', score=0.5, methods_stack=((<DictionaryAnalyzer>, 'классические', 16, 20),)), Parse(word='классические', tag=OpencorporaTag('ADJF inan,plur,accs'), normal_form='классический', score=0.5, methods_stack=((<DictionaryAnalyzer>, 'классические', 16, 24),))]\n",
      "[Parse(word='инструменты', tag=OpencorporaTag('NOUN,inan,masc plur,nomn'), normal_form='инструмент', score=0.625, methods_stack=((<DictionaryAnalyzer>, 'инструменты', 33, 6),)), Parse(word='инструменты', tag=OpencorporaTag('NOUN,inan,masc plur,accs'), normal_form='инструмент', score=0.375, methods_stack=((<DictionaryAnalyzer>, 'инструменты', 33, 9),))]\n",
      "[Parse(word='-', tag=OpencorporaTag('PNCT'), normal_form='-', score=1.0, methods_stack=((<PunctuationAnalyzer>, '-'),))]\n",
      "[Parse(word='фортепиано', tag=OpencorporaTag('NOUN,inan,neut,Fixd sing,nomn'), normal_form='фортепиано', score=0.08333333333333333, methods_stack=((<DictionaryAnalyzer>, 'фортепиано', 23, 0),)), Parse(word='фортепиано', tag=OpencorporaTag('NOUN,inan,neut,Fixd sing,gent'), normal_form='фортепиано', score=0.08333333333333333, methods_stack=((<DictionaryAnalyzer>, 'фортепиано', 23, 1),)), Parse(word='фортепиано', tag=OpencorporaTag('NOUN,inan,neut,Fixd sing,datv'), normal_form='фортепиано', score=0.08333333333333333, methods_stack=((<DictionaryAnalyzer>, 'фортепиано', 23, 2),)), Parse(word='фортепиано', tag=OpencorporaTag('NOUN,inan,neut,Fixd sing,accs'), normal_form='фортепиано', score=0.08333333333333333, methods_stack=((<DictionaryAnalyzer>, 'фортепиано', 23, 3),)), Parse(word='фортепиано', tag=OpencorporaTag('NOUN,inan,neut,Fixd sing,ablt'), normal_form='фортепиано', score=0.08333333333333333, methods_stack=((<DictionaryAnalyzer>, 'фортепиано', 23, 4),)), Parse(word='фортепиано', tag=OpencorporaTag('NOUN,inan,neut,Fixd sing,loct'), normal_form='фортепиано', score=0.08333333333333333, methods_stack=((<DictionaryAnalyzer>, 'фортепиано', 23, 5),)), Parse(word='фортепиано', tag=OpencorporaTag('NOUN,inan,neut,Fixd plur,nomn'), normal_form='фортепиано', score=0.08333333333333333, methods_stack=((<DictionaryAnalyzer>, 'фортепиано', 23, 6),)), Parse(word='фортепиано', tag=OpencorporaTag('NOUN,inan,neut,Fixd plur,gent'), normal_form='фортепиано', score=0.08333333333333333, methods_stack=((<DictionaryAnalyzer>, 'фортепиано', 23, 7),)), Parse(word='фортепиано', tag=OpencorporaTag('NOUN,inan,neut,Fixd plur,datv'), normal_form='фортепиано', score=0.08333333333333333, methods_stack=((<DictionaryAnalyzer>, 'фортепиано', 23, 8),)), Parse(word='фортепиано', tag=OpencorporaTag('NOUN,inan,neut,Fixd plur,accs'), normal_form='фортепиано', score=0.08333333333333333, methods_stack=((<DictionaryAnalyzer>, 'фортепиано', 23, 9),)), Parse(word='фортепиано', tag=OpencorporaTag('NOUN,inan,neut,Fixd plur,ablt'), normal_form='фортепиано', score=0.08333333333333333, methods_stack=((<DictionaryAnalyzer>, 'фортепиано', 23, 10),)), Parse(word='фортепиано', tag=OpencorporaTag('NOUN,inan,neut,Fixd plur,loct'), normal_form='фортепиано', score=0.08333333333333333, methods_stack=((<DictionaryAnalyzer>, 'фортепиано', 23, 11),))]\n",
      "[Parse(word='и', tag=OpencorporaTag('CONJ'), normal_form='и', score=0.997671, methods_stack=((<DictionaryAnalyzer>, 'и', 20, 0),)), Parse(word='и', tag=OpencorporaTag('INTJ'), normal_form='и', score=0.000436, methods_stack=((<DictionaryAnalyzer>, 'и', 21, 0),)), Parse(word='и', tag=OpencorporaTag('PRCL'), normal_form='и', score=0.000145, methods_stack=((<DictionaryAnalyzer>, 'и', 22, 0),)), Parse(word='и', tag=OpencorporaTag('NOUN,anim,masc,Fixd,Abbr sing,nomn'), normal_form='исполняющий', score=0.000145, methods_stack=((<DictionaryAnalyzer>, 'и', 3144, 12),)), Parse(word='и', tag=OpencorporaTag('NOUN,anim,masc,Fixd,Abbr sing,gent'), normal_form='исполняющий', score=0.000145, methods_stack=((<DictionaryAnalyzer>, 'и', 3144, 13),)), Parse(word='и', tag=OpencorporaTag('NOUN,anim,masc,Fixd,Abbr sing,datv'), normal_form='исполняющий', score=0.000145, methods_stack=((<DictionaryAnalyzer>, 'и', 3144, 14),)), Parse(word='и', tag=OpencorporaTag('NOUN,anim,masc,Fixd,Abbr sing,accs'), normal_form='исполняющий', score=0.000145, methods_stack=((<DictionaryAnalyzer>, 'и', 3144, 15),)), Parse(word='и', tag=OpencorporaTag('NOUN,anim,masc,Fixd,Abbr sing,ablt'), normal_form='исполняющий', score=0.000145, methods_stack=((<DictionaryAnalyzer>, 'и', 3144, 16),)), Parse(word='и', tag=OpencorporaTag('NOUN,anim,masc,Fixd,Abbr sing,loct'), normal_form='исполняющий', score=0.000145, methods_stack=((<DictionaryAnalyzer>, 'и', 3144, 17),)), Parse(word='и', tag=OpencorporaTag('NOUN,anim,masc,Fixd,Abbr plur,nomn'), normal_form='исполняющий', score=0.000145, methods_stack=((<DictionaryAnalyzer>, 'и', 3144, 18),)), Parse(word='и', tag=OpencorporaTag('NOUN,anim,masc,Fixd,Abbr plur,gent'), normal_form='исполняющий', score=0.000145, methods_stack=((<DictionaryAnalyzer>, 'и', 3144, 19),)), Parse(word='и', tag=OpencorporaTag('NOUN,anim,masc,Fixd,Abbr plur,datv'), normal_form='исполняющий', score=0.000145, methods_stack=((<DictionaryAnalyzer>, 'и', 3144, 20),)), Parse(word='и', tag=OpencorporaTag('NOUN,anim,masc,Fixd,Abbr plur,accs'), normal_form='исполняющий', score=0.000145, methods_stack=((<DictionaryAnalyzer>, 'и', 3144, 21),)), Parse(word='и', tag=OpencorporaTag('NOUN,anim,masc,Fixd,Abbr plur,ablt'), normal_form='исполняющий', score=0.000145, methods_stack=((<DictionaryAnalyzer>, 'и', 3144, 22),)), Parse(word='и', tag=OpencorporaTag('NOUN,anim,masc,Fixd,Abbr plur,loct'), normal_form='исполняющий', score=0.000145, methods_stack=((<DictionaryAnalyzer>, 'и', 3144, 23),))]\n",
      "[Parse(word='арфа', tag=OpencorporaTag('NOUN,inan,femn sing,nomn'), normal_form='арфа', score=1.0, methods_stack=((<DictionaryAnalyzer>, 'арфа', 55, 0),))]\n",
      "[Parse(word='-', tag=OpencorporaTag('PNCT'), normal_form='-', score=1.0, methods_stack=((<PunctuationAnalyzer>, '-'),))]\n",
      "[Parse(word='соединяются', tag=OpencorporaTag('VERB,impf,intr plur,3per,pres,indc'), normal_form='соединяться', score=1.0, methods_stack=((<DictionaryAnalyzer>, 'соединяются', 224, 6),))]\n",
      "[Parse(word='с', tag=OpencorporaTag('PREP'), normal_form='с', score=0.998363, methods_stack=((<DictionaryAnalyzer>, 'с', 375, 0),)), Parse(word='с', tag=OpencorporaTag('NOUN,inan,femn,Fixd,Abbr sing,nomn'), normal_form='секунда', score=6.8e-05, methods_stack=((<DictionaryAnalyzer>, 'с', 2747, 13),)), Parse(word='с', tag=OpencorporaTag('NOUN,inan,femn,Fixd,Abbr sing,gent'), normal_form='секунда', score=6.8e-05, methods_stack=((<DictionaryAnalyzer>, 'с', 2747, 14),)), Parse(word='с', tag=OpencorporaTag('NOUN,inan,femn,Fixd,Abbr sing,datv'), normal_form='секунда', score=6.8e-05, methods_stack=((<DictionaryAnalyzer>, 'с', 2747, 15),)), Parse(word='с', tag=OpencorporaTag('NOUN,inan,femn,Fixd,Abbr sing,accs'), normal_form='секунда', score=6.8e-05, methods_stack=((<DictionaryAnalyzer>, 'с', 2747, 16),)), Parse(word='с', tag=OpencorporaTag('NOUN,inan,femn,Fixd,Abbr sing,ablt'), normal_form='секунда', score=6.8e-05, methods_stack=((<DictionaryAnalyzer>, 'с', 2747, 17),)), Parse(word='с', tag=OpencorporaTag('NOUN,inan,femn,Fixd,Abbr sing,loct'), normal_form='секунда', score=6.8e-05, methods_stack=((<DictionaryAnalyzer>, 'с', 2747, 18),)), Parse(word='с', tag=OpencorporaTag('NOUN,inan,femn,Fixd,Abbr plur,nomn'), normal_form='секунда', score=6.8e-05, methods_stack=((<DictionaryAnalyzer>, 'с', 2747, 19),)), Parse(word='с', tag=OpencorporaTag('NOUN,inan,femn,Fixd,Abbr plur,gent'), normal_form='секунда', score=6.8e-05, methods_stack=((<DictionaryAnalyzer>, 'с', 2747, 20),)), Parse(word='с', tag=OpencorporaTag('NOUN,inan,femn,Fixd,Abbr plur,datv'), normal_form='секунда', score=6.8e-05, methods_stack=((<DictionaryAnalyzer>, 'с', 2747, 21),)), Parse(word='с', tag=OpencorporaTag('NOUN,inan,femn,Fixd,Abbr plur,accs'), normal_form='секунда', score=6.8e-05, methods_stack=((<DictionaryAnalyzer>, 'с', 2747, 22),)), Parse(word='с', tag=OpencorporaTag('NOUN,inan,femn,Fixd,Abbr plur,ablt'), normal_form='секунда', score=6.8e-05, methods_stack=((<DictionaryAnalyzer>, 'с', 2747, 23),)), Parse(word='с', tag=OpencorporaTag('NOUN,inan,femn,Fixd,Abbr plur,loct'), normal_form='секунда', score=6.8e-05, methods_stack=((<DictionaryAnalyzer>, 'с', 2747, 24),)), Parse(word='с', tag=OpencorporaTag('NOUN,inan,neut,Fixd,Abbr sing,nomn'), normal_form='село', score=6.8e-05, methods_stack=((<DictionaryAnalyzer>, 'с', 2748, 12),)), Parse(word='с', tag=OpencorporaTag('NOUN,inan,neut,Fixd,Abbr sing,gent'), normal_form='село', score=6.8e-05, methods_stack=((<DictionaryAnalyzer>, 'с', 2748, 13),)), Parse(word='с', tag=OpencorporaTag('NOUN,inan,neut,Fixd,Abbr sing,datv'), normal_form='село', score=6.8e-05, methods_stack=((<DictionaryAnalyzer>, 'с', 2748, 14),)), Parse(word='с', tag=OpencorporaTag('NOUN,inan,neut,Fixd,Abbr sing,accs'), normal_form='село', score=6.8e-05, methods_stack=((<DictionaryAnalyzer>, 'с', 2748, 15),)), Parse(word='с', tag=OpencorporaTag('NOUN,inan,neut,Fixd,Abbr sing,ablt'), normal_form='село', score=6.8e-05, methods_stack=((<DictionaryAnalyzer>, 'с', 2748, 16),)), Parse(word='с', tag=OpencorporaTag('NOUN,inan,neut,Fixd,Abbr sing,loct'), normal_form='село', score=6.8e-05, methods_stack=((<DictionaryAnalyzer>, 'с', 2748, 17),)), Parse(word='с', tag=OpencorporaTag('NOUN,inan,neut,Fixd,Abbr plur,nomn'), normal_form='село', score=6.8e-05, methods_stack=((<DictionaryAnalyzer>, 'с', 2748, 18),)), Parse(word='с', tag=OpencorporaTag('NOUN,inan,neut,Fixd,Abbr plur,gent'), normal_form='село', score=6.8e-05, methods_stack=((<DictionaryAnalyzer>, 'с', 2748, 19),)), Parse(word='с', tag=OpencorporaTag('NOUN,inan,neut,Fixd,Abbr plur,datv'), normal_form='село', score=6.8e-05, methods_stack=((<DictionaryAnalyzer>, 'с', 2748, 20),)), Parse(word='с', tag=OpencorporaTag('NOUN,inan,neut,Fixd,Abbr plur,accs'), normal_form='село', score=6.8e-05, methods_stack=((<DictionaryAnalyzer>, 'с', 2748, 21),)), Parse(word='с', tag=OpencorporaTag('NOUN,inan,neut,Fixd,Abbr plur,ablt'), normal_form='село', score=6.8e-05, methods_stack=((<DictionaryAnalyzer>, 'с', 2748, 22),)), Parse(word='с', tag=OpencorporaTag('NOUN,inan,neut,Fixd,Abbr plur,loct'), normal_form='село', score=6.8e-05, methods_stack=((<DictionaryAnalyzer>, 'с', 2748, 23),))]\n",
      "[Parse(word='электроникой.', tag=OpencorporaTag('UNKN'), normal_form='электроникой.', score=1.0, methods_stack=((<UnknAnalyzer>, 'никой.'), (<KnownPrefixAnalyzer>, 'электро')))]\n",
      "[Parse(word='темой', tag=OpencorporaTag('NOUN,inan,femn sing,ablt'), normal_form='тема', score=1.0, methods_stack=((<DictionaryAnalyzer>, 'темой', 55, 4),))]\n",
      "[Parse(word='музыкального', tag=OpencorporaTag('ADJF,Qual neut,sing,gent'), normal_form='музыкальный', score=0.571428, methods_stack=((<DictionaryAnalyzer>, 'музыкального', 216, 15),)), Parse(word='музыкального', tag=OpencorporaTag('ADJF,Qual masc,sing,gent'), normal_form='музыкальный', score=0.285714, methods_stack=((<DictionaryAnalyzer>, 'музыкального', 216, 1),)), Parse(word='музыкального', tag=OpencorporaTag('ADJF,Qual anim,masc,sing,accs'), normal_form='музыкальный', score=0.142857, methods_stack=((<DictionaryAnalyzer>, 'музыкального', 216, 3),))]\n",
      "[Parse(word='исследования', tag=OpencorporaTag('NOUN,inan,neut sing,gent'), normal_form='исследование', score=0.972222, methods_stack=((<DictionaryAnalyzer>, 'исследования', 76, 2),)), Parse(word='исследования', tag=OpencorporaTag('NOUN,inan,neut plur,nomn'), normal_form='исследование', score=0.013888, methods_stack=((<DictionaryAnalyzer>, 'исследования', 76, 13),)), Parse(word='исследования', tag=OpencorporaTag('NOUN,inan,neut plur,accs'), normal_form='исследование', score=0.013888, methods_stack=((<DictionaryAnalyzer>, 'исследования', 76, 18),))]\n",
      "[Parse(word='делии', tag=OpencorporaTag('NOUN,anim,masc,Name sing,loct'), normal_form='делий', score=0.5, methods_stack=((<DictionaryAnalyzer>, 'делии', 61, 5),)), Parse(word='делии', tag=OpencorporaTag('NOUN,anim,masc,Name plur,nomn'), normal_form='делий', score=0.5, methods_stack=((<DictionaryAnalyzer>, 'делии', 61, 6),))]\n",
      "[Parse(word='становятся', tag=OpencorporaTag('VERB,impf,intr plur,3per,pres,indc'), normal_form='становиться', score=1.0, methods_stack=((<DictionaryAnalyzer>, 'становятся', 510, 6),))]\n",
      "[Parse(word='пропорции', tag=OpencorporaTag('NOUN,inan,femn sing,gent'), normal_form='пропорция', score=0.2, methods_stack=((<DictionaryAnalyzer>, 'пропорции', 40, 1),)), Parse(word='пропорции', tag=OpencorporaTag('NOUN,inan,femn sing,datv'), normal_form='пропорция', score=0.2, methods_stack=((<DictionaryAnalyzer>, 'пропорции', 40, 2),)), Parse(word='пропорции', tag=OpencorporaTag('NOUN,inan,femn sing,loct'), normal_form='пропорция', score=0.2, methods_stack=((<DictionaryAnalyzer>, 'пропорции', 40, 6),)), Parse(word='пропорции', tag=OpencorporaTag('NOUN,inan,femn plur,nomn'), normal_form='пропорция', score=0.2, methods_stack=((<DictionaryAnalyzer>, 'пропорции', 40, 7),)), Parse(word='пропорции', tag=OpencorporaTag('NOUN,inan,femn plur,accs'), normal_form='пропорция', score=0.2, methods_stack=((<DictionaryAnalyzer>, 'пропорции', 40, 10),))]\n",
      "[Parse(word='-', tag=OpencorporaTag('PNCT'), normal_form='-', score=1.0, methods_stack=((<PunctuationAnalyzer>, '-'),))]\n",
      "[Parse(word='как', tag=OpencorporaTag('CONJ'), normal_form='как', score=0.875, methods_stack=((<DictionaryAnalyzer>, 'как', 1673, 0),)), Parse(word='как', tag=OpencorporaTag('ADVB,Ques'), normal_form='как', score=0.09375, methods_stack=((<DictionaryAnalyzer>, 'как', 1674, 0),)), Parse(word='как', tag=OpencorporaTag('PRCL'), normal_form='как', score=0.03125, methods_stack=((<DictionaryAnalyzer>, 'как', 22, 0),))]\n",
      "[Parse(word='много', tag=OpencorporaTag('ADVB,Prdx'), normal_form='много', score=0.3333333333333333, methods_stack=((<DictionaryAnalyzer>, 'много', 385, 0),)), Parse(word='много', tag=OpencorporaTag('NUMR nomn'), normal_form='много', score=0.3333333333333333, methods_stack=((<DictionaryAnalyzer>, 'много', 3135, 0),)), Parse(word='много', tag=OpencorporaTag('NUMR accs'), normal_form='много', score=0.3333333333333333, methods_stack=((<DictionaryAnalyzer>, 'много', 3135, 3),))]\n",
      "[Parse(word='эксперимента', tag=OpencorporaTag('NOUN,inan,masc sing,gent'), normal_form='эксперимент', score=1.0, methods_stack=((<DictionaryAnalyzer>, 'эксперимента', 33, 1),))]\n",
      "[Parse(word='нужно', tag=OpencorporaTag('PRED,pres'), normal_form='нужно', score=0.666666, methods_stack=((<DictionaryAnalyzer>, 'нужно', 242, 0),)), Parse(word='нужно', tag=OpencorporaTag('ADJS,Qual neut,sing'), normal_form='нужный', score=0.333333, methods_stack=((<DictionaryAnalyzer>, 'нужно', 214, 56),))]\n",
      "[Parse(word='поп-музыке', tag=OpencorporaTag('NOUN,inan,femn sing,loct'), normal_form='поп-музыка', score=0.5675675675675675, methods_stack=((<HyphenatedWordsAnalyzer>, 'поп', ((<DictionaryAnalyzer>, 'музыке', 43, 6),)),)), Parse(word='поп-музыке', tag=OpencorporaTag('NOUN,inan,femn sing,datv'), normal_form='поп-музыка', score=0.43243243243243235, methods_stack=((<HyphenatedWordsAnalyzer>, 'поп', ((<DictionaryAnalyzer>, 'музыке', 43, 2),)),))]\n",
      "[Parse(word='и', tag=OpencorporaTag('CONJ'), normal_form='и', score=0.997671, methods_stack=((<DictionaryAnalyzer>, 'и', 20, 0),)), Parse(word='и', tag=OpencorporaTag('INTJ'), normal_form='и', score=0.000436, methods_stack=((<DictionaryAnalyzer>, 'и', 21, 0),)), Parse(word='и', tag=OpencorporaTag('PRCL'), normal_form='и', score=0.000145, methods_stack=((<DictionaryAnalyzer>, 'и', 22, 0),)), Parse(word='и', tag=OpencorporaTag('NOUN,anim,masc,Fixd,Abbr sing,nomn'), normal_form='исполняющий', score=0.000145, methods_stack=((<DictionaryAnalyzer>, 'и', 3144, 12),)), Parse(word='и', tag=OpencorporaTag('NOUN,anim,masc,Fixd,Abbr sing,gent'), normal_form='исполняющий', score=0.000145, methods_stack=((<DictionaryAnalyzer>, 'и', 3144, 13),)), Parse(word='и', tag=OpencorporaTag('NOUN,anim,masc,Fixd,Abbr sing,datv'), normal_form='исполняющий', score=0.000145, methods_stack=((<DictionaryAnalyzer>, 'и', 3144, 14),)), Parse(word='и', tag=OpencorporaTag('NOUN,anim,masc,Fixd,Abbr sing,accs'), normal_form='исполняющий', score=0.000145, methods_stack=((<DictionaryAnalyzer>, 'и', 3144, 15),)), Parse(word='и', tag=OpencorporaTag('NOUN,anim,masc,Fixd,Abbr sing,ablt'), normal_form='исполняющий', score=0.000145, methods_stack=((<DictionaryAnalyzer>, 'и', 3144, 16),)), Parse(word='и', tag=OpencorporaTag('NOUN,anim,masc,Fixd,Abbr sing,loct'), normal_form='исполняющий', score=0.000145, methods_stack=((<DictionaryAnalyzer>, 'и', 3144, 17),)), Parse(word='и', tag=OpencorporaTag('NOUN,anim,masc,Fixd,Abbr plur,nomn'), normal_form='исполняющий', score=0.000145, methods_stack=((<DictionaryAnalyzer>, 'и', 3144, 18),)), Parse(word='и', tag=OpencorporaTag('NOUN,anim,masc,Fixd,Abbr plur,gent'), normal_form='исполняющий', score=0.000145, methods_stack=((<DictionaryAnalyzer>, 'и', 3144, 19),)), Parse(word='и', tag=OpencorporaTag('NOUN,anim,masc,Fixd,Abbr plur,datv'), normal_form='исполняющий', score=0.000145, methods_stack=((<DictionaryAnalyzer>, 'и', 3144, 20),)), Parse(word='и', tag=OpencorporaTag('NOUN,anim,masc,Fixd,Abbr plur,accs'), normal_form='исполняющий', score=0.000145, methods_stack=((<DictionaryAnalyzer>, 'и', 3144, 21),)), Parse(word='и', tag=OpencorporaTag('NOUN,anim,masc,Fixd,Abbr plur,ablt'), normal_form='исполняющий', score=0.000145, methods_stack=((<DictionaryAnalyzer>, 'и', 3144, 22),)), Parse(word='и', tag=OpencorporaTag('NOUN,anim,masc,Fixd,Abbr plur,loct'), normal_form='исполняющий', score=0.000145, methods_stack=((<DictionaryAnalyzer>, 'и', 3144, 23),))]\n",
      "[Parse(word='как', tag=OpencorporaTag('CONJ'), normal_form='как', score=0.875, methods_stack=((<DictionaryAnalyzer>, 'как', 1673, 0),)), Parse(word='как', tag=OpencorporaTag('ADVB,Ques'), normal_form='как', score=0.09375, methods_stack=((<DictionaryAnalyzer>, 'как', 1674, 0),)), Parse(word='как', tag=OpencorporaTag('PRCL'), normal_form='как', score=0.03125, methods_stack=((<DictionaryAnalyzer>, 'как', 22, 0),))]\n",
      "[Parse(word='много', tag=OpencorporaTag('ADVB,Prdx'), normal_form='много', score=0.3333333333333333, methods_stack=((<DictionaryAnalyzer>, 'много', 385, 0),)), Parse(word='много', tag=OpencorporaTag('NUMR nomn'), normal_form='много', score=0.3333333333333333, methods_stack=((<DictionaryAnalyzer>, 'много', 3135, 0),)), Parse(word='много', tag=OpencorporaTag('NUMR accs'), normal_form='много', score=0.3333333333333333, methods_stack=((<DictionaryAnalyzer>, 'много', 3135, 3),))]\n",
      "[Parse(word='попа', tag=OpencorporaTag('NOUN,anim,masc sing,gent'), normal_form='поп', score=0.3333333333333333, methods_stack=((<DictionaryAnalyzer>, 'попа', 52, 1),)), Parse(word='попа', tag=OpencorporaTag('NOUN,anim,masc sing,accs'), normal_form='поп', score=0.3333333333333333, methods_stack=((<DictionaryAnalyzer>, 'попа', 52, 3),)), Parse(word='попа', tag=OpencorporaTag('NOUN,inan,femn sing,nomn'), normal_form='попа', score=0.3333333333333333, methods_stack=((<DictionaryAnalyzer>, 'попа', 55, 0),))]\n",
      "[Parse(word='нужно', tag=OpencorporaTag('PRED,pres'), normal_form='нужно', score=0.666666, methods_stack=((<DictionaryAnalyzer>, 'нужно', 242, 0),)), Parse(word='нужно', tag=OpencorporaTag('ADJS,Qual neut,sing'), normal_form='нужный', score=0.333333, methods_stack=((<DictionaryAnalyzer>, 'нужно', 214, 56),))]\n",
      "[Parse(word='экспериментальной', tag=OpencorporaTag('ADJF femn,sing,datv'), normal_form='экспериментальный', score=0.4, methods_stack=((<DictionaryAnalyzer>, 'экспериментальной', 60, 9),)), Parse(word='экспериментальной', tag=OpencorporaTag('ADJF femn,sing,gent'), normal_form='экспериментальный', score=0.2, methods_stack=((<DictionaryAnalyzer>, 'экспериментальной', 60, 8),)), Parse(word='экспериментальной', tag=OpencorporaTag('ADJF femn,sing,ablt'), normal_form='экспериментальный', score=0.2, methods_stack=((<DictionaryAnalyzer>, 'экспериментальной', 60, 11),)), Parse(word='экспериментальной', tag=OpencorporaTag('ADJF femn,sing,loct'), normal_form='экспериментальный', score=0.2, methods_stack=((<DictionaryAnalyzer>, 'экспериментальной', 60, 13),))]\n",
      "[Parse(word='музыке.', tag=OpencorporaTag('UNKN'), normal_form='музыке.', score=1.0, methods_stack=((<UnknAnalyzer>, 'музыке.'),))]\n"
     ]
    }
   ],
   "source": [
    "z = text.split(' ')\n",
    "print(z)\n",
    "for word in z:\n",
    "    ana = morph.parse(word)\n",
    "    print(ana)"
   ]
  },
  {
   "cell_type": "code",
   "execution_count": 19,
   "metadata": {},
   "outputs": [
    {
     "name": "stdout",
     "output_type": "stream",
     "text": [
      "Слово: музыке.\n",
      "Тэг: UNKN\n",
      "Лемма: музыке.\n",
      "Вероятность: 1.0\n"
     ]
    }
   ],
   "source": [
    "first = ana[0]  # первый разбор\n",
    "print('Слово:', first.word)\n",
    "print('Тэг:', first.tag)\n",
    "print('Лемма:', first.normal_form)\n",
    "print('Вероятность:', first.score)"
   ]
  },
  {
   "cell_type": "code",
   "execution_count": 20,
   "metadata": {},
   "outputs": [
    {
     "data": {
      "text/plain": [
       "Parse(word='музыке.', tag=OpencorporaTag('UNKN'), normal_form='музыке.', score=1.0, methods_stack=((<UnknAnalyzer>, 'музыке.'),))"
      ]
     },
     "execution_count": 20,
     "metadata": {},
     "output_type": "execute_result"
    }
   ],
   "source": [
    "first.normalized"
   ]
  },
  {
   "cell_type": "code",
   "execution_count": 91,
   "metadata": {},
   "outputs": [
    {
     "data": {
      "text/plain": [
       "'ПРИЛ,кач мр,ед,им'"
      ]
     },
     "execution_count": 91,
     "metadata": {},
     "output_type": "execute_result"
    }
   ],
   "source": [
    "stol = morph.parse('красивый')\n",
    "tags = stol[0].tag.cyr_repr\n",
    "tags"
   ]
  },
  {
   "cell_type": "code",
   "execution_count": 97,
   "metadata": {},
   "outputs": [
    {
     "data": {
      "text/plain": [
       "'может'"
      ]
     },
     "execution_count": 97,
     "metadata": {},
     "output_type": "execute_result"
    }
   ],
   "source": [
    "st = morph.parse('могут')[0]\n",
    "st.inflect({'sing'}).word"
   ]
  },
  {
   "cell_type": "code",
   "execution_count": 30,
   "metadata": {},
   "outputs": [
    {
     "data": {
      "text/plain": [
       "[Parse(word='искать', tag=OpencorporaTag('INFN,impf,tran'), normal_form='искать', score=1.0, methods_stack=((<DictionaryAnalyzer>, 'искать', 1651, 0),)),\n",
       " Parse(word='ищу', tag=OpencorporaTag('VERB,impf,tran sing,1per,pres,indc'), normal_form='искать', score=1.0, methods_stack=((<DictionaryAnalyzer>, 'ищу', 1651, 1),)),\n",
       " Parse(word='ищем', tag=OpencorporaTag('VERB,impf,tran plur,1per,pres,indc'), normal_form='искать', score=1.0, methods_stack=((<DictionaryAnalyzer>, 'ищем', 1651, 2),)),\n",
       " Parse(word='ищешь', tag=OpencorporaTag('VERB,impf,tran sing,2per,pres,indc'), normal_form='искать', score=1.0, methods_stack=((<DictionaryAnalyzer>, 'ищешь', 1651, 3),)),\n",
       " Parse(word='ищете', tag=OpencorporaTag('VERB,impf,tran plur,2per,pres,indc'), normal_form='искать', score=1.0, methods_stack=((<DictionaryAnalyzer>, 'ищете', 1651, 4),)),\n",
       " Parse(word='ищет', tag=OpencorporaTag('VERB,impf,tran sing,3per,pres,indc'), normal_form='искать', score=1.0, methods_stack=((<DictionaryAnalyzer>, 'ищет', 1651, 5),)),\n",
       " Parse(word='ищут', tag=OpencorporaTag('VERB,impf,tran plur,3per,pres,indc'), normal_form='искать', score=1.0, methods_stack=((<DictionaryAnalyzer>, 'ищут', 1651, 6),)),\n",
       " Parse(word='искал', tag=OpencorporaTag('VERB,impf,tran masc,sing,past,indc'), normal_form='искать', score=1.0, methods_stack=((<DictionaryAnalyzer>, 'искал', 1651, 7),)),\n",
       " Parse(word='искала', tag=OpencorporaTag('VERB,impf,tran femn,sing,past,indc'), normal_form='искать', score=1.0, methods_stack=((<DictionaryAnalyzer>, 'искала', 1651, 8),)),\n",
       " Parse(word='искало', tag=OpencorporaTag('VERB,impf,tran neut,sing,past,indc'), normal_form='искать', score=1.0, methods_stack=((<DictionaryAnalyzer>, 'искало', 1651, 9),)),\n",
       " Parse(word='искали', tag=OpencorporaTag('VERB,impf,tran plur,past,indc'), normal_form='искать', score=1.0, methods_stack=((<DictionaryAnalyzer>, 'искали', 1651, 10),)),\n",
       " Parse(word='ищи', tag=OpencorporaTag('VERB,impf,tran sing,impr,excl'), normal_form='искать', score=1.0, methods_stack=((<DictionaryAnalyzer>, 'ищи', 1651, 11),)),\n",
       " Parse(word='ищите', tag=OpencorporaTag('VERB,impf,tran plur,impr,excl'), normal_form='искать', score=1.0, methods_stack=((<DictionaryAnalyzer>, 'ищите', 1651, 12),)),\n",
       " Parse(word='ищущий', tag=OpencorporaTag('PRTF,impf,tran,pres,actv masc,sing,nomn'), normal_form='искать', score=1.0, methods_stack=((<DictionaryAnalyzer>, 'ищущий', 1651, 13),)),\n",
       " Parse(word='ищущего', tag=OpencorporaTag('PRTF,impf,tran,pres,actv masc,sing,gent'), normal_form='искать', score=1.0, methods_stack=((<DictionaryAnalyzer>, 'ищущего', 1651, 14),)),\n",
       " Parse(word='ищущему', tag=OpencorporaTag('PRTF,impf,tran,pres,actv masc,sing,datv'), normal_form='искать', score=1.0, methods_stack=((<DictionaryAnalyzer>, 'ищущему', 1651, 15),)),\n",
       " Parse(word='ищущего', tag=OpencorporaTag('PRTF,impf,tran,pres,actv anim,masc,sing,accs'), normal_form='искать', score=1.0, methods_stack=((<DictionaryAnalyzer>, 'ищущего', 1651, 16),)),\n",
       " Parse(word='ищущий', tag=OpencorporaTag('PRTF,impf,tran,pres,actv inan,masc,sing,accs'), normal_form='искать', score=1.0, methods_stack=((<DictionaryAnalyzer>, 'ищущий', 1651, 17),)),\n",
       " Parse(word='ищущим', tag=OpencorporaTag('PRTF,impf,tran,pres,actv masc,sing,ablt'), normal_form='искать', score=1.0, methods_stack=((<DictionaryAnalyzer>, 'ищущим', 1651, 18),)),\n",
       " Parse(word='ищущем', tag=OpencorporaTag('PRTF,impf,tran,pres,actv masc,sing,loct'), normal_form='искать', score=1.0, methods_stack=((<DictionaryAnalyzer>, 'ищущем', 1651, 19),)),\n",
       " Parse(word='ищущая', tag=OpencorporaTag('PRTF,impf,tran,pres,actv femn,sing,nomn'), normal_form='искать', score=1.0, methods_stack=((<DictionaryAnalyzer>, 'ищущая', 1651, 20),)),\n",
       " Parse(word='ищущей', tag=OpencorporaTag('PRTF,impf,tran,pres,actv femn,sing,gent'), normal_form='искать', score=1.0, methods_stack=((<DictionaryAnalyzer>, 'ищущей', 1651, 21),)),\n",
       " Parse(word='ищущей', tag=OpencorporaTag('PRTF,impf,tran,pres,actv femn,sing,datv'), normal_form='искать', score=1.0, methods_stack=((<DictionaryAnalyzer>, 'ищущей', 1651, 22),)),\n",
       " Parse(word='ищущую', tag=OpencorporaTag('PRTF,impf,tran,pres,actv femn,sing,accs'), normal_form='искать', score=1.0, methods_stack=((<DictionaryAnalyzer>, 'ищущую', 1651, 23),)),\n",
       " Parse(word='ищущей', tag=OpencorporaTag('PRTF,impf,tran,pres,actv femn,sing,ablt'), normal_form='искать', score=1.0, methods_stack=((<DictionaryAnalyzer>, 'ищущей', 1651, 24),)),\n",
       " Parse(word='ищущею', tag=OpencorporaTag('PRTF,impf,tran,pres,actv femn,sing,ablt,V-ey'), normal_form='искать', score=1.0, methods_stack=((<DictionaryAnalyzer>, 'ищущею', 1651, 25),)),\n",
       " Parse(word='ищущей', tag=OpencorporaTag('PRTF,impf,tran,pres,actv femn,sing,loct'), normal_form='искать', score=1.0, methods_stack=((<DictionaryAnalyzer>, 'ищущей', 1651, 26),)),\n",
       " Parse(word='ищущее', tag=OpencorporaTag('PRTF,impf,tran,pres,actv neut,sing,nomn'), normal_form='искать', score=1.0, methods_stack=((<DictionaryAnalyzer>, 'ищущее', 1651, 27),)),\n",
       " Parse(word='ищущего', tag=OpencorporaTag('PRTF,impf,tran,pres,actv neut,sing,gent'), normal_form='искать', score=1.0, methods_stack=((<DictionaryAnalyzer>, 'ищущего', 1651, 28),)),\n",
       " Parse(word='ищущему', tag=OpencorporaTag('PRTF,impf,tran,pres,actv neut,sing,datv'), normal_form='искать', score=1.0, methods_stack=((<DictionaryAnalyzer>, 'ищущему', 1651, 29),)),\n",
       " Parse(word='ищущее', tag=OpencorporaTag('PRTF,impf,tran,pres,actv neut,sing,accs'), normal_form='искать', score=1.0, methods_stack=((<DictionaryAnalyzer>, 'ищущее', 1651, 30),)),\n",
       " Parse(word='ищущим', tag=OpencorporaTag('PRTF,impf,tran,pres,actv neut,sing,ablt'), normal_form='искать', score=1.0, methods_stack=((<DictionaryAnalyzer>, 'ищущим', 1651, 31),)),\n",
       " Parse(word='ищущем', tag=OpencorporaTag('PRTF,impf,tran,pres,actv neut,sing,loct'), normal_form='искать', score=1.0, methods_stack=((<DictionaryAnalyzer>, 'ищущем', 1651, 32),)),\n",
       " Parse(word='ищущие', tag=OpencorporaTag('PRTF,impf,tran,pres,actv plur,nomn'), normal_form='искать', score=1.0, methods_stack=((<DictionaryAnalyzer>, 'ищущие', 1651, 33),)),\n",
       " Parse(word='ищущих', tag=OpencorporaTag('PRTF,impf,tran,pres,actv plur,gent'), normal_form='искать', score=1.0, methods_stack=((<DictionaryAnalyzer>, 'ищущих', 1651, 34),)),\n",
       " Parse(word='ищущим', tag=OpencorporaTag('PRTF,impf,tran,pres,actv plur,datv'), normal_form='искать', score=1.0, methods_stack=((<DictionaryAnalyzer>, 'ищущим', 1651, 35),)),\n",
       " Parse(word='ищущих', tag=OpencorporaTag('PRTF,impf,tran,pres,actv anim,plur,accs'), normal_form='искать', score=1.0, methods_stack=((<DictionaryAnalyzer>, 'ищущих', 1651, 36),)),\n",
       " Parse(word='ищущие', tag=OpencorporaTag('PRTF,impf,tran,pres,actv inan,plur,accs'), normal_form='искать', score=1.0, methods_stack=((<DictionaryAnalyzer>, 'ищущие', 1651, 37),)),\n",
       " Parse(word='ищущими', tag=OpencorporaTag('PRTF,impf,tran,pres,actv plur,ablt'), normal_form='искать', score=1.0, methods_stack=((<DictionaryAnalyzer>, 'ищущими', 1651, 38),)),\n",
       " Parse(word='ищущих', tag=OpencorporaTag('PRTF,impf,tran,pres,actv plur,loct'), normal_form='искать', score=1.0, methods_stack=((<DictionaryAnalyzer>, 'ищущих', 1651, 39),)),\n",
       " Parse(word='искавший', tag=OpencorporaTag('PRTF,impf,tran,past,actv masc,sing,nomn'), normal_form='искать', score=1.0, methods_stack=((<DictionaryAnalyzer>, 'искавший', 1651, 40),)),\n",
       " Parse(word='искавшего', tag=OpencorporaTag('PRTF,impf,tran,past,actv masc,sing,gent'), normal_form='искать', score=1.0, methods_stack=((<DictionaryAnalyzer>, 'искавшего', 1651, 41),)),\n",
       " Parse(word='искавшему', tag=OpencorporaTag('PRTF,impf,tran,past,actv masc,sing,datv'), normal_form='искать', score=1.0, methods_stack=((<DictionaryAnalyzer>, 'искавшему', 1651, 42),)),\n",
       " Parse(word='искавшего', tag=OpencorporaTag('PRTF,impf,tran,past,actv anim,masc,sing,accs'), normal_form='искать', score=1.0, methods_stack=((<DictionaryAnalyzer>, 'искавшего', 1651, 43),)),\n",
       " Parse(word='искавший', tag=OpencorporaTag('PRTF,impf,tran,past,actv inan,masc,sing,accs'), normal_form='искать', score=1.0, methods_stack=((<DictionaryAnalyzer>, 'искавший', 1651, 44),)),\n",
       " Parse(word='искавшим', tag=OpencorporaTag('PRTF,impf,tran,past,actv masc,sing,ablt'), normal_form='искать', score=1.0, methods_stack=((<DictionaryAnalyzer>, 'искавшим', 1651, 45),)),\n",
       " Parse(word='искавшем', tag=OpencorporaTag('PRTF,impf,tran,past,actv masc,sing,loct'), normal_form='искать', score=1.0, methods_stack=((<DictionaryAnalyzer>, 'искавшем', 1651, 46),)),\n",
       " Parse(word='искавшая', tag=OpencorporaTag('PRTF,impf,tran,past,actv femn,sing,nomn'), normal_form='искать', score=1.0, methods_stack=((<DictionaryAnalyzer>, 'искавшая', 1651, 47),)),\n",
       " Parse(word='искавшей', tag=OpencorporaTag('PRTF,impf,tran,past,actv femn,sing,gent'), normal_form='искать', score=1.0, methods_stack=((<DictionaryAnalyzer>, 'искавшей', 1651, 48),)),\n",
       " Parse(word='искавшей', tag=OpencorporaTag('PRTF,impf,tran,past,actv femn,sing,datv'), normal_form='искать', score=1.0, methods_stack=((<DictionaryAnalyzer>, 'искавшей', 1651, 49),)),\n",
       " Parse(word='искавшую', tag=OpencorporaTag('PRTF,impf,tran,past,actv femn,sing,accs'), normal_form='искать', score=1.0, methods_stack=((<DictionaryAnalyzer>, 'искавшую', 1651, 50),)),\n",
       " Parse(word='искавшей', tag=OpencorporaTag('PRTF,impf,tran,past,actv femn,sing,ablt'), normal_form='искать', score=1.0, methods_stack=((<DictionaryAnalyzer>, 'искавшей', 1651, 51),)),\n",
       " Parse(word='искавшею', tag=OpencorporaTag('PRTF,impf,tran,past,actv femn,sing,ablt,V-ey'), normal_form='искать', score=1.0, methods_stack=((<DictionaryAnalyzer>, 'искавшею', 1651, 52),)),\n",
       " Parse(word='искавшей', tag=OpencorporaTag('PRTF,impf,tran,past,actv femn,sing,loct'), normal_form='искать', score=1.0, methods_stack=((<DictionaryAnalyzer>, 'искавшей', 1651, 53),)),\n",
       " Parse(word='искавшее', tag=OpencorporaTag('PRTF,impf,tran,past,actv neut,sing,nomn'), normal_form='искать', score=1.0, methods_stack=((<DictionaryAnalyzer>, 'искавшее', 1651, 54),)),\n",
       " Parse(word='искавшего', tag=OpencorporaTag('PRTF,impf,tran,past,actv neut,sing,gent'), normal_form='искать', score=1.0, methods_stack=((<DictionaryAnalyzer>, 'искавшего', 1651, 55),)),\n",
       " Parse(word='искавшему', tag=OpencorporaTag('PRTF,impf,tran,past,actv neut,sing,datv'), normal_form='искать', score=1.0, methods_stack=((<DictionaryAnalyzer>, 'искавшему', 1651, 56),)),\n",
       " Parse(word='искавшее', tag=OpencorporaTag('PRTF,impf,tran,past,actv neut,sing,accs'), normal_form='искать', score=1.0, methods_stack=((<DictionaryAnalyzer>, 'искавшее', 1651, 57),)),\n",
       " Parse(word='искавшим', tag=OpencorporaTag('PRTF,impf,tran,past,actv neut,sing,ablt'), normal_form='искать', score=1.0, methods_stack=((<DictionaryAnalyzer>, 'искавшим', 1651, 58),)),\n",
       " Parse(word='искавшем', tag=OpencorporaTag('PRTF,impf,tran,past,actv neut,sing,loct'), normal_form='искать', score=1.0, methods_stack=((<DictionaryAnalyzer>, 'искавшем', 1651, 59),)),\n",
       " Parse(word='искавшие', tag=OpencorporaTag('PRTF,impf,tran,past,actv plur,nomn'), normal_form='искать', score=1.0, methods_stack=((<DictionaryAnalyzer>, 'искавшие', 1651, 60),)),\n",
       " Parse(word='искавших', tag=OpencorporaTag('PRTF,impf,tran,past,actv plur,gent'), normal_form='искать', score=1.0, methods_stack=((<DictionaryAnalyzer>, 'искавших', 1651, 61),)),\n",
       " Parse(word='искавшим', tag=OpencorporaTag('PRTF,impf,tran,past,actv plur,datv'), normal_form='искать', score=1.0, methods_stack=((<DictionaryAnalyzer>, 'искавшим', 1651, 62),)),\n",
       " Parse(word='искавших', tag=OpencorporaTag('PRTF,impf,tran,past,actv anim,plur,accs'), normal_form='искать', score=1.0, methods_stack=((<DictionaryAnalyzer>, 'искавших', 1651, 63),)),\n",
       " Parse(word='искавшие', tag=OpencorporaTag('PRTF,impf,tran,past,actv inan,plur,accs'), normal_form='искать', score=1.0, methods_stack=((<DictionaryAnalyzer>, 'искавшие', 1651, 64),)),\n",
       " Parse(word='искавшими', tag=OpencorporaTag('PRTF,impf,tran,past,actv plur,ablt'), normal_form='искать', score=1.0, methods_stack=((<DictionaryAnalyzer>, 'искавшими', 1651, 65),)),\n",
       " Parse(word='искавших', tag=OpencorporaTag('PRTF,impf,tran,past,actv plur,loct'), normal_form='искать', score=1.0, methods_stack=((<DictionaryAnalyzer>, 'искавших', 1651, 66),)),\n",
       " Parse(word='исканный', tag=OpencorporaTag('PRTF,impf,tran,past,pssv masc,sing,nomn'), normal_form='искать', score=1.0, methods_stack=((<DictionaryAnalyzer>, 'исканный', 1651, 67),)),\n",
       " Parse(word='исканного', tag=OpencorporaTag('PRTF,impf,tran,past,pssv masc,sing,gent'), normal_form='искать', score=1.0, methods_stack=((<DictionaryAnalyzer>, 'исканного', 1651, 68),)),\n",
       " Parse(word='исканному', tag=OpencorporaTag('PRTF,impf,tran,past,pssv masc,sing,datv'), normal_form='искать', score=1.0, methods_stack=((<DictionaryAnalyzer>, 'исканному', 1651, 69),)),\n",
       " Parse(word='исканного', tag=OpencorporaTag('PRTF,impf,tran,past,pssv anim,masc,sing,accs'), normal_form='искать', score=1.0, methods_stack=((<DictionaryAnalyzer>, 'исканного', 1651, 70),)),\n",
       " Parse(word='исканный', tag=OpencorporaTag('PRTF,impf,tran,past,pssv inan,masc,sing,accs'), normal_form='искать', score=1.0, methods_stack=((<DictionaryAnalyzer>, 'исканный', 1651, 71),)),\n",
       " Parse(word='исканным', tag=OpencorporaTag('PRTF,impf,tran,past,pssv masc,sing,ablt'), normal_form='искать', score=1.0, methods_stack=((<DictionaryAnalyzer>, 'исканным', 1651, 72),)),\n",
       " Parse(word='исканном', tag=OpencorporaTag('PRTF,impf,tran,past,pssv masc,sing,loct'), normal_form='искать', score=1.0, methods_stack=((<DictionaryAnalyzer>, 'исканном', 1651, 73),)),\n",
       " Parse(word='исканная', tag=OpencorporaTag('PRTF,impf,tran,past,pssv femn,sing,nomn'), normal_form='искать', score=1.0, methods_stack=((<DictionaryAnalyzer>, 'исканная', 1651, 74),)),\n",
       " Parse(word='исканной', tag=OpencorporaTag('PRTF,impf,tran,past,pssv femn,sing,gent'), normal_form='искать', score=1.0, methods_stack=((<DictionaryAnalyzer>, 'исканной', 1651, 75),)),\n",
       " Parse(word='исканной', tag=OpencorporaTag('PRTF,impf,tran,past,pssv femn,sing,datv'), normal_form='искать', score=1.0, methods_stack=((<DictionaryAnalyzer>, 'исканной', 1651, 76),)),\n",
       " Parse(word='исканную', tag=OpencorporaTag('PRTF,impf,tran,past,pssv femn,sing,accs'), normal_form='искать', score=1.0, methods_stack=((<DictionaryAnalyzer>, 'исканную', 1651, 77),)),\n",
       " Parse(word='исканной', tag=OpencorporaTag('PRTF,impf,tran,past,pssv femn,sing,ablt'), normal_form='искать', score=1.0, methods_stack=((<DictionaryAnalyzer>, 'исканной', 1651, 78),)),\n",
       " Parse(word='исканною', tag=OpencorporaTag('PRTF,impf,tran,past,pssv femn,sing,ablt,V-oy'), normal_form='искать', score=1.0, methods_stack=((<DictionaryAnalyzer>, 'исканною', 1651, 79),)),\n",
       " Parse(word='исканной', tag=OpencorporaTag('PRTF,impf,tran,past,pssv femn,sing,loct'), normal_form='искать', score=1.0, methods_stack=((<DictionaryAnalyzer>, 'исканной', 1651, 80),)),\n",
       " Parse(word='исканное', tag=OpencorporaTag('PRTF,impf,tran,past,pssv neut,sing,nomn'), normal_form='искать', score=1.0, methods_stack=((<DictionaryAnalyzer>, 'исканное', 1651, 81),)),\n",
       " Parse(word='исканного', tag=OpencorporaTag('PRTF,impf,tran,past,pssv neut,sing,gent'), normal_form='искать', score=1.0, methods_stack=((<DictionaryAnalyzer>, 'исканного', 1651, 82),)),\n",
       " Parse(word='исканному', tag=OpencorporaTag('PRTF,impf,tran,past,pssv neut,sing,datv'), normal_form='искать', score=1.0, methods_stack=((<DictionaryAnalyzer>, 'исканному', 1651, 83),)),\n",
       " Parse(word='исканное', tag=OpencorporaTag('PRTF,impf,tran,past,pssv neut,sing,accs'), normal_form='искать', score=1.0, methods_stack=((<DictionaryAnalyzer>, 'исканное', 1651, 84),)),\n",
       " Parse(word='исканным', tag=OpencorporaTag('PRTF,impf,tran,past,pssv neut,sing,ablt'), normal_form='искать', score=1.0, methods_stack=((<DictionaryAnalyzer>, 'исканным', 1651, 85),)),\n",
       " Parse(word='исканном', tag=OpencorporaTag('PRTF,impf,tran,past,pssv neut,sing,loct'), normal_form='искать', score=1.0, methods_stack=((<DictionaryAnalyzer>, 'исканном', 1651, 86),)),\n",
       " Parse(word='исканные', tag=OpencorporaTag('PRTF,impf,tran,past,pssv plur,nomn'), normal_form='искать', score=1.0, methods_stack=((<DictionaryAnalyzer>, 'исканные', 1651, 87),)),\n",
       " Parse(word='исканных', tag=OpencorporaTag('PRTF,impf,tran,past,pssv plur,gent'), normal_form='искать', score=1.0, methods_stack=((<DictionaryAnalyzer>, 'исканных', 1651, 88),)),\n",
       " Parse(word='исканным', tag=OpencorporaTag('PRTF,impf,tran,past,pssv plur,datv'), normal_form='искать', score=1.0, methods_stack=((<DictionaryAnalyzer>, 'исканным', 1651, 89),)),\n",
       " Parse(word='исканных', tag=OpencorporaTag('PRTF,impf,tran,past,pssv anim,plur,accs'), normal_form='искать', score=1.0, methods_stack=((<DictionaryAnalyzer>, 'исканных', 1651, 90),)),\n",
       " Parse(word='исканные', tag=OpencorporaTag('PRTF,impf,tran,past,pssv inan,plur,accs'), normal_form='искать', score=1.0, methods_stack=((<DictionaryAnalyzer>, 'исканные', 1651, 91),)),\n",
       " Parse(word='исканными', tag=OpencorporaTag('PRTF,impf,tran,past,pssv plur,ablt'), normal_form='искать', score=1.0, methods_stack=((<DictionaryAnalyzer>, 'исканными', 1651, 92),)),\n",
       " Parse(word='исканных', tag=OpencorporaTag('PRTF,impf,tran,past,pssv plur,loct'), normal_form='искать', score=1.0, methods_stack=((<DictionaryAnalyzer>, 'исканных', 1651, 93),)),\n",
       " Parse(word='ища', tag=OpencorporaTag('GRND,impf,tran pres'), normal_form='искать', score=1.0, methods_stack=((<DictionaryAnalyzer>, 'ища', 1651, 94),)),\n",
       " Parse(word='искав', tag=OpencorporaTag('GRND,impf,tran past'), normal_form='искать', score=1.0, methods_stack=((<DictionaryAnalyzer>, 'искав', 1651, 95),)),\n",
       " Parse(word='искавши', tag=OpencorporaTag('GRND,impf,tran past,V-sh'), normal_form='искать', score=1.0, methods_stack=((<DictionaryAnalyzer>, 'искавши', 1651, 96),)),\n",
       " Parse(word='искан', tag=OpencorporaTag('PRTS,impf,past,pssv masc,sing'), normal_form='искать', score=1.0, methods_stack=((<DictionaryAnalyzer>, 'искан', 1651, 97),)),\n",
       " Parse(word='искана', tag=OpencorporaTag('PRTS,impf,past,pssv femn,sing'), normal_form='искать', score=1.0, methods_stack=((<DictionaryAnalyzer>, 'искана', 1651, 98),)),\n",
       " Parse(word='искано', tag=OpencorporaTag('PRTS,impf,past,pssv neut,sing'), normal_form='искать', score=1.0, methods_stack=((<DictionaryAnalyzer>, 'искано', 1651, 99),)),\n",
       " Parse(word='исканы', tag=OpencorporaTag('PRTS,impf,past,pssv plur'), normal_form='искать', score=1.0, methods_stack=((<DictionaryAnalyzer>, 'исканы', 1651, 100),))]"
      ]
     },
     "execution_count": 30,
     "metadata": {},
     "output_type": "execute_result"
    }
   ],
   "source": [
    "st.lexeme"
   ]
  },
  {
   "cell_type": "code",
   "execution_count": 65,
   "metadata": {},
   "outputs": [
    {
     "data": {
      "text/plain": [
       "5"
      ]
     },
     "execution_count": 65,
     "metadata": {},
     "output_type": "execute_result"
    }
   ],
   "source": [
    "import random\n",
    "z = [1, 2, 3, 4, 5]\n",
    "random.shuffle(z)\n",
    "k  = random.choice(z)\n",
    "k"
   ]
  },
  {
   "cell_type": "code",
   "execution_count": 82,
   "metadata": {},
   "outputs": [
    {
     "data": {
      "text/plain": [
       "2"
      ]
     },
     "execution_count": 82,
     "metadata": {},
     "output_type": "execute_result"
    }
   ],
   "source": [
    "import numpy\n",
    "l = numpy.random.choice(z, size=None, replace=True, p=None)\n",
    "l"
   ]
  },
  {
   "cell_type": "code",
   "execution_count": 92,
   "metadata": {
    "scrolled": true
   },
   "outputs": [
    {
     "name": "stdout",
     "output_type": "stream",
     "text": [
      "мр,ед,им\n"
     ]
    }
   ],
   "source": [
    "import re\n",
    "s = 'ПРИЛ,кач мр,ед,им'\n",
    "m = re.search('\\s(\\S*)', tags)\n",
    "if m != None:\n",
    "    print(m.group(1))"
   ]
  },
  {
   "cell_type": "code",
   "execution_count": 99,
   "metadata": {},
   "outputs": [
    {
     "data": {
      "text/plain": [
       "Parse(word='мочь', tag=OpencorporaTag('NOUN,inan,femn sing,nomn'), normal_form='мочь', score=0.3333333333333333, methods_stack=((<DictionaryAnalyzer>, 'мочь', 435, 0),))"
      ]
     },
     "execution_count": 99,
     "metadata": {},
     "output_type": "execute_result"
    }
   ],
   "source": [
    "st = morph.parse('мочь')[0]\n",
    "st"
   ]
  }
 ],
 "metadata": {
  "kernelspec": {
   "display_name": "Python 3",
   "language": "python",
   "name": "python3"
  },
  "language_info": {
   "codemirror_mode": {
    "name": "ipython",
    "version": 3
   },
   "file_extension": ".py",
   "mimetype": "text/x-python",
   "name": "python",
   "nbconvert_exporter": "python",
   "pygments_lexer": "ipython3",
   "version": "3.5.2"
  }
 },
 "nbformat": 4,
 "nbformat_minor": 2
}
